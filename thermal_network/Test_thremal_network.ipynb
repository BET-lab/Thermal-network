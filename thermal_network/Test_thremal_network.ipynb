{
 "cells": [
  {
   "cell_type": "code",
   "execution_count": 1,
   "metadata": {},
   "outputs": [],
   "source": [
    "# from .import constant as c\n",
    "# from .import radiation as rd\n",
    "# from .import convection as cv\n",
    "\n",
    "import constant as c\n",
    "import radiation as rd\n",
    "import core as co\n",
    "import pandas as pd"
   ]
  },
  {
   "cell_type": "markdown",
   "metadata": {},
   "source": [
    "# Example"
   ]
  },
  {
   "cell_type": "code",
   "execution_count": 3,
   "metadata": {},
   "outputs": [
    {
     "name": "stderr",
     "output_type": "stream",
     "text": [
      "Simulation progress: 100%|██████████| 2880/2880 [00:00<00:00, 5246.40it/s]\n"
     ]
    }
   ],
   "source": [
    "import constant as c\n",
    "import radiation as rd\n",
    "import core as co\n",
    "import pandas as pd\n",
    "\n",
    "### 1. Data Loading and Preprocessing\n",
    "\n",
    "## 1.1 Load the data\n",
    "data = pd.read_csv('2407_weather_data.csv', index_col=0, encoding='cp949').dropna(subset='지점명', axis=0).fillna(0)\n",
    "\n",
    "## 1.2 Extract the data\n",
    "temp = data['기온(°C)']\n",
    "windspeed = data['풍속(m/s)']\n",
    "GHI_MJm2 = data['일사(MJ/m2)']\n",
    "\n",
    "### 2. Weather Data Post-processing\n",
    "\n",
    "## 2.1 Convert GHI to DNI and DHI\n",
    "DNI_H, DHI = rd.GHI_MJm2_to_DNI_H_and_DHI(GHI_MJm2, station='광주(Gwangju)', year=2024, month=7, day=10, local_hour=0)\n",
    "\n",
    "## 2.2 Temperature unit conversion\n",
    "temp = co.C2K(temp) # °C to K\n",
    "\n",
    "\n",
    "### 3. Simulation Parameters\n",
    "\n",
    "## 3.1 Simulation time\n",
    "sim_time = co.SimulationTimeParameters(PST = 24, MST = 24, dt = 60, start_time = pd.Timestamp('2024-07-10 00:00:00'))\n",
    "\n",
    "\n",
    "### 4. Data Interpolation\n",
    "\n",
    "## 4.1 Interpolate hourly data\n",
    "temp_interp = co.interpolate_hourly_data(temp, sim_time.dt) # K\n",
    "windspeed_interp = co.interpolate_hourly_data(windspeed, sim_time.dt) # m/s\n",
    "DNI_H_interp = co.interpolate_hourly_data(DNI_H, sim_time.dt) # W/m2\n",
    "DHI_interp = co.interpolate_hourly_data(DHI, sim_time.dt) # W/m2\n",
    "\n",
    "## 4.2 Trim data to simulation time\n",
    "temp_interp_cut = temp_interp[:sim_time.tN]  # K\n",
    "windspeed_interp_cut = windspeed_interp[:sim_time.tN] # m/s\n",
    "DNI_H_interp_cut = DNI_H_interp[:sim_time.tN] # W/m2\n",
    "DHI_interp_cut = DHI_interp[:sim_time.tN] # W/m2\n",
    "\n",
    "### 5. Weather Data (Gwangju)\n",
    "weather = co.WeatherData(location='광주(Gwangju)',\n",
    "                      temp=temp_interp_cut, \n",
    "                      Vz=windspeed_interp_cut, \n",
    "                      DNI_H=DNI_H_interp_cut, \n",
    "                      DHI=DHI_interp_cut)\n",
    "\n",
    "\n",
    "### 6. Building Structure Definition\n",
    "\n",
    "## 6.1 Wall and Roof Layers\n",
    "concrete = co.Layer(L=0.2, dx=0.01, k=1.4, c=840, rho=2400)\n",
    "insulation = co.Layer(L=0.1, dx=0.01, k=0.03, c=840, rho=30)\n",
    "\n",
    "## 6.2 Walls\n",
    "# Calculate volume based on the structure\n",
    "wall_height = 3  # Assume wall height is 3 meters\n",
    "wall_width = 5  # Assume wall width is 5 meters\n",
    "wall_area = wall_height * wall_width\n",
    "roof_area = wall_width * wall_width\n",
    "room_volume = roof_area * wall_height\n",
    "\n",
    "wall_south = co.Construction(name='Wall_South', layers=[concrete, insulation], roughness='smooth', Tinit=co.C2K(20), area=wall_area, azimuth=0, tilt=90)\n",
    "wall_east = co.Construction(name='Wall_East', layers=[concrete, insulation], roughness='smooth', Tinit=co.C2K(20), area=wall_area, azimuth=90, tilt=90)\n",
    "wall_north = co.Construction(name='Wall_North', layers=[concrete, insulation], roughness='smooth', Tinit=co.C2K(20), area=wall_area, azimuth=180, tilt=90)\n",
    "wall_west = co.Construction(name='Wall_West', layers=[concrete, insulation], roughness='smooth', Tinit=co.C2K(20), area=wall_area, azimuth=270, tilt=90)\n",
    "\n",
    "## 6.3 Roof\n",
    "roof = co.Construction(name='Roof', layers=[concrete, insulation], roughness='smooth', Tinit=co.C2K(20), area=roof_area, azimuth=0, tilt=0)\n",
    "\n",
    "## 6.4 Structure \n",
    "structure = [wall_south, wall_east, wall_north, wall_west, roof]\n",
    "\n",
    "### 7. Indoor Air Properties\n",
    "\n",
    "indoor_air = co.IndoorAir(ACH=0.5, h_ci=4, volume=room_volume, temperature=co.C2K(20))\n",
    "\n",
    "### 8. Simulation\n",
    "co.simulate_one_node_building_exergy(structure=structure,\n",
    "                                  simulation_time_parameters = sim_time, \n",
    "                                  weather = weather, \n",
    "                                  indoor_air = indoor_air,\n",
    "                                  filepath='.')"
   ]
  },
  {
   "cell_type": "code",
   "execution_count": null,
   "metadata": {},
   "outputs": [],
   "source": []
  }
 ],
 "metadata": {
  "kernelspec": {
   "display_name": "exergy_39",
   "language": "python",
   "name": "python3"
  },
  "language_info": {
   "codemirror_mode": {
    "name": "ipython",
    "version": 3
   },
   "file_extension": ".py",
   "mimetype": "text/x-python",
   "name": "python",
   "nbconvert_exporter": "python",
   "pygments_lexer": "ipython3",
   "version": "3.9.18"
  }
 },
 "nbformat": 4,
 "nbformat_minor": 2
}
